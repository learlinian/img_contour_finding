{
 "cells": [
  {
   "cell_type": "code",
   "execution_count": 83,
   "metadata": {},
   "outputs": [],
   "source": [
    "# %load get_contour.py\n",
    "import cv2\n",
    "import numpy as np\n",
    "from matplotlib import pyplot as plt\n",
    "\n",
    "\n",
    "if __name__ == \"__main__\":\n",
    "    # read the image\n",
    "    image = cv2.imread('template.png')\n",
    "\n",
    "    # grayscale\n",
    "    gray = cv2.cvtColor(src=image, code=cv2.COLOR_BGR2GRAY)\n",
    "\n",
    "    # blur the image using Guassian\n",
    "    blur = cv2.GaussianBlur(src=gray, ksize=(5, 5), sigmaX=0)\n",
    "    (t, binary) = cv2.threshold(src=blur,\n",
    "                                thresh=120, maxval=255, type=cv2.THRESH_BINARY)\n",
    "    \n",
    "    # Sobel edge detector\n",
    "    sobel_x = cv2.Sobel(binary, cv2.CV_32F, 1, 0)\n",
    "    sobel_y = cv2.Sobel(binary, cv2.CV_32F, 0, 1)\n",
    "    edge_image = cv2.magnitude(sobel_x, sobel_y)\n",
    "    edge_image = cv2.normalize(\n",
    "        edge_image, None, 0., 255., cv2.NORM_MINMAX, cv2.CV_8U)\n",
    "\n",
    "    # thining\n",
    "    edge_image = cv2.ximgproc.thinning(\n",
    "        edge_image, None, cv2.ximgproc.THINNING_GUOHALL)\n",
    "\n",
    "    # get contour\n",
    "    cv_version = cv2.__version__.split('.')[0]\n",
    "    if cv_version == '3':\n",
    "        ret, contours, hierarchy = cv2.findContours(\n",
    "            image=edge_image, mode=cv2.RETR_TREE, method=cv2.CHAIN_APPROX_SIMPLE)\n",
    "    else:\n",
    "        contours, hierarchy = cv2.findContours(\n",
    "            image=edge_image, mode=cv2.RETR_TREE, method=cv2.CHAIN_APPROX_SIMPLE)\n",
    "\n",
    "    contour_length = []  # array to record contour length\n",
    "    for contour in contours:\n",
    "        contour_length.append(len(contour))\n",
    "\n",
    "    # delete the the longest contour in the corner\n",
    "    del contours[contour_length.index(max(contour_length))]\n",
    "    del contour_length[contour_length.index(max(contour_length))]\n",
    "\n",
    "    # store contour info\n",
    "    with open('contour.txt', 'w+') as f:\n",
    "        for contour in contours:\n",
    "            f.write(str(contour))\n",
    "    \n",
    "    valid_contour_list = []\n",
    "\n",
    "    # draw the contour in image\n",
    "    for i, contour in enumerate(contours):\n",
    "        if hierarchy[0, i, 3] == -1:\n",
    "            cv2.drawContours(image=image, contours=contour,\n",
    "                             contourIdx=-1, color=(0, 0, 255), thickness=3)\n",
    "            valid_contour_list.append(np.asarray(contour))\n",
    "    cv2.imwrite('contour.jpg', image)\n",
    "\n",
    "    # extract the template contour of number '6'\n",
    "    valid_template = valid_contour_list[0]\n",
    "    \n",
    "    # convert cartesian coordinates into complex values\n",
    "    contour_in_complex = []\n",
    "    for pair in valid_template:\n",
    "        c_number = complex(pair[0][0], pair[0][1])\n",
    "        contour_in_complex.append(c_number)\n",
    "    contour_in_complex = np.array(contour_in_complex)\n",
    "    np.savetxt('contour_complex.txt', contour_in_complex)\n",
    "    \n",
    "    # perform discrete fourier transform\n",
    "    fft_spectrum = np.fft.fft(contour_in_complex)\n",
    "    np.savetxt('fft_contour.txt', fft_spectrum)\n",
    "    \n",
    "    # truncate the spectrum and only retain low frequency componenet\n",
    "    truncated_fft_spectrum = fft_spectrum[:int(fft_spectrum.size/10)]\n",
    "    np.savetxt('truncate_fft_contour.txt', truncated_fft_spectrum)\n",
    "    \n",
    "    test_image = cv2.imread('a3.pgm')\n",
    "    \n",
    "    \n",
    "    \n",
    "  \n"
   ]
  },
  {
   "cell_type": "code",
   "execution_count": 78,
   "metadata": {},
   "outputs": [
    {
     "data": {
      "image/png": "[encoded data removed]",
      "text/plain": [
       "<Figure size 432x288 with 1 Axes>"
      ]
     },
     "metadata": {
      "needs_background": "light"
     },
     "output_type": "display_data"
    }
   ],
   "source": [
    "    plt.imshow(image)\n",
    "    plt.show()"
   ]
  },
  {
   "cell_type": "code",
   "execution_count": 6,
   "metadata": {},
   "outputs": [
    {
     "name": "stdout",
     "output_type": "stream",
     "text": [
      "0.3390902206824119\n"
     ]
    }
   ],
   "source": [
    "    import numpy as np\n",
    "    import math\n",
    "    \n",
    "    \n",
    "    array1 = np.array([1+1j, 1+1j, 1+1j, 1+1j, 1+1j])\n",
    "    array_c2 = np.array([1+2j, 1+2j, 1+2j, 1+2j, 1+2j])\n",
    "    array_c3 = np.array([2+2j, 2+2j, 2+2j, 2+2j, 2+2j])\n",
    "    array_c4 = np.array([1+2j, 2+2j, 1+1j, 0.4+5.9j, 6+1j])\n",
    "    \n",
    "    arr = array1[np.newaxis]\n",
    "    arr_conj = np.conj(arr)\n",
    "    arr_t = np.transpose(arr_conj)\n",
    "    result = np.absolute(arr.dot(arr_t))\n",
    "    \n",
    "    def correlation(arr1, arr2):\n",
    "        arr = arr1[np.newaxis]\n",
    "        arr_conj = np.conj(arr)\n",
    "        arr_t = np.transpose(arr_conj)\n",
    "        return np.absolute(arr.dot(arr_t))[0][0]\n",
    "    \n",
    "    def measure_sim(vec1, vec2):\n",
    "        return correlation(vec1, vec2) / (math.sqrt(correlation(vec1, vec1)) * math.sqrt(correlation(vec2, vec2)))\n",
    "    \n",
    "    print(measure_sim(array1,array_c4))\n",
    "    \n",
    "#     print(array_c2.T * array_c2)\n",
    "    \n",
    "#     array2 = np.array([3, 3, 3, 3])\n",
    "#     if array2.size < array1.size:\n",
    "#         extended_array = np.zeros(array1.shape)\n",
    "#         extended_array[: array2.shape[0]] = array2\n",
    "#         print(extended_array)\n",
    "    \n",
    "#     print(array1)\n",
    "\n",
    "#     for element in np.nditer(array1, op_flags=['readwrite']):\n",
    "#         element[...] = float(abs(element))\n",
    "    \n",
    "#     array3 = np.absolute(array1)\n",
    "#     print(array3)\n",
    "        \n",
    "    \n",
    "#     result = (np.square(array1 - array2)).mean()\n",
    "#     result"
   ]
  },
  {
   "cell_type": "code",
   "execution_count": 14,
   "metadata": {},
   "outputs": [
    {
     "ename": "ValueError",
     "evalue": "all the input arrays must have same number of dimensions",
     "output_type": "error",
     "traceback": [
      "\u001b[0;31m---------------------------------------------------------------------------\u001b[0m",
      "\u001b[0;31mValueError\u001b[0m                                Traceback (most recent call last)",
      "\u001b[0;32m<ipython-input-14-8dbfbb119177>\u001b[0m in \u001b[0;36m<module>\u001b[0;34m\u001b[0m\n\u001b[1;32m      3\u001b[0m \u001b[0ma\u001b[0m \u001b[0;34m=\u001b[0m \u001b[0mnp\u001b[0m\u001b[0;34m.\u001b[0m\u001b[0marray\u001b[0m\u001b[0;34m(\u001b[0m\u001b[0;34m[\u001b[0m\u001b[0;34m[\u001b[0m\u001b[0;34m[\u001b[0m\u001b[0;36m1\u001b[0m\u001b[0;34m,\u001b[0m \u001b[0;36m1\u001b[0m\u001b[0;34m]\u001b[0m\u001b[0;34m]\u001b[0m\u001b[0;34m,\u001b[0m \u001b[0;34m[\u001b[0m\u001b[0;34m[\u001b[0m\u001b[0;36m2\u001b[0m\u001b[0;34m,\u001b[0m \u001b[0;36m2\u001b[0m\u001b[0;34m]\u001b[0m\u001b[0;34m]\u001b[0m\u001b[0;34m,\u001b[0m \u001b[0;34m[\u001b[0m\u001b[0;34m[\u001b[0m\u001b[0;36m3\u001b[0m\u001b[0;34m,\u001b[0m \u001b[0;36m3\u001b[0m\u001b[0;34m]\u001b[0m\u001b[0;34m]\u001b[0m\u001b[0;34m]\u001b[0m\u001b[0;34m)\u001b[0m\u001b[0;34m\u001b[0m\u001b[0;34m\u001b[0m\u001b[0m\n\u001b[1;32m      4\u001b[0m \u001b[0mb\u001b[0m \u001b[0;34m=\u001b[0m \u001b[0mnp\u001b[0m\u001b[0;34m.\u001b[0m\u001b[0marray\u001b[0m\u001b[0;34m(\u001b[0m\u001b[0;34m[\u001b[0m\u001b[0;34m[\u001b[0m\u001b[0;36m4\u001b[0m\u001b[0;34m,\u001b[0m \u001b[0;36m4\u001b[0m\u001b[0;34m]\u001b[0m\u001b[0;34m]\u001b[0m\u001b[0;34m)\u001b[0m\u001b[0;34m\u001b[0m\u001b[0;34m\u001b[0m\u001b[0m\n\u001b[0;32m----> 5\u001b[0;31m \u001b[0mc\u001b[0m \u001b[0;34m=\u001b[0m \u001b[0mnp\u001b[0m\u001b[0;34m.\u001b[0m\u001b[0mappend\u001b[0m\u001b[0;34m(\u001b[0m\u001b[0ma\u001b[0m\u001b[0;34m,\u001b[0m\u001b[0mb\u001b[0m\u001b[0;34m,\u001b[0m \u001b[0maxis\u001b[0m\u001b[0;34m=\u001b[0m\u001b[0;36m1\u001b[0m\u001b[0;34m)\u001b[0m\u001b[0;34m\u001b[0m\u001b[0;34m\u001b[0m\u001b[0m\n\u001b[0m\u001b[1;32m      6\u001b[0m \u001b[0mprint\u001b[0m\u001b[0;34m(\u001b[0m\u001b[0mc\u001b[0m\u001b[0;34m.\u001b[0m\u001b[0mshape\u001b[0m\u001b[0;34m)\u001b[0m\u001b[0;34m\u001b[0m\u001b[0;34m\u001b[0m\u001b[0m\n",
      "\u001b[0;32m/usr/local/anaconda3/envs/EE4266/lib/python3.7/site-packages/numpy/lib/function_base.py\u001b[0m in \u001b[0;36mappend\u001b[0;34m(arr, values, axis)\u001b[0m\n\u001b[1;32m   4692\u001b[0m         \u001b[0mvalues\u001b[0m \u001b[0;34m=\u001b[0m \u001b[0mravel\u001b[0m\u001b[0;34m(\u001b[0m\u001b[0mvalues\u001b[0m\u001b[0;34m)\u001b[0m\u001b[0;34m\u001b[0m\u001b[0;34m\u001b[0m\u001b[0m\n\u001b[1;32m   4693\u001b[0m         \u001b[0maxis\u001b[0m \u001b[0;34m=\u001b[0m \u001b[0marr\u001b[0m\u001b[0;34m.\u001b[0m\u001b[0mndim\u001b[0m\u001b[0;34m-\u001b[0m\u001b[0;36m1\u001b[0m\u001b[0;34m\u001b[0m\u001b[0;34m\u001b[0m\u001b[0m\n\u001b[0;32m-> 4694\u001b[0;31m     \u001b[0;32mreturn\u001b[0m \u001b[0mconcatenate\u001b[0m\u001b[0;34m(\u001b[0m\u001b[0;34m(\u001b[0m\u001b[0marr\u001b[0m\u001b[0;34m,\u001b[0m \u001b[0mvalues\u001b[0m\u001b[0;34m)\u001b[0m\u001b[0;34m,\u001b[0m \u001b[0maxis\u001b[0m\u001b[0;34m=\u001b[0m\u001b[0maxis\u001b[0m\u001b[0;34m)\u001b[0m\u001b[0;34m\u001b[0m\u001b[0;34m\u001b[0m\u001b[0m\n\u001b[0m\u001b[1;32m   4695\u001b[0m \u001b[0;34m\u001b[0m\u001b[0m\n\u001b[1;32m   4696\u001b[0m \u001b[0;34m\u001b[0m\u001b[0m\n",
      "\u001b[0;31mValueError\u001b[0m: all the input arrays must have same number of dimensions"
     ]
    }
   ],
   "source": [
    "import numpy as np\n",
    "\n",
    "a = np.array([[[1, 1]], [[2, 2]], [[3, 3]]])\n",
    "b = np.array([[4, 4]])\n",
    "c = np.append(a,b, axis=1)\n",
    "print(c.shape)\n"
   ]
  },
  {
   "cell_type": "code",
   "execution_count": null,
   "metadata": {},
   "outputs": [],
   "source": []
  },
  {
   "cell_type": "code",
   "execution_count": null,
   "metadata": {},
   "outputs": [],
   "source": []
  }
 ],
 "metadata": {
  "kernelspec": {
   "display_name": "Python 3",
   "language": "python",
   "name": "python3"
  },
  "language_info": {
   "codemirror_mode": {
    "name": "ipython",
    "version": 3
   },
   "file_extension": ".py",
   "mimetype": "text/x-python",
   "name": "python",
   "nbconvert_exporter": "python",
   "pygments_lexer": "ipython3",
   "version": "3.7.3"
  }
 },
 "nbformat": 4,
 "nbformat_minor": 2
}
